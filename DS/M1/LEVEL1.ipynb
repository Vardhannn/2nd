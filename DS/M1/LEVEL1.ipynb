{
 "cells": [
  {
   "cell_type": "code",
   "execution_count": 1,
   "metadata": {},
   "outputs": [
    {
     "name": "stdout",
     "output_type": "stream",
     "text": [
      "3\n",
      "4\n",
      "sum is : 7\n"
     ]
    }
   ],
   "source": [
    "#add two numbers without using arthematic operaters using recursion\n",
    "\n",
    "def add(a,b):\n",
    "\n",
    "    while b > 0 :\n",
    "        a += 1\n",
    "        b -= 1\n",
    "    return a\n",
    "\n",
    "a = int(input())\n",
    "b = int(input())\n",
    "print(\"sum is :\",add(a,b))"
   ]
  },
  {
   "cell_type": "code",
   "execution_count": 16,
   "metadata": {},
   "outputs": [
    {
     "name": "stdout",
     "output_type": "stream",
     "text": [
      "111"
     ]
    }
   ],
   "source": [
    "#decimal to binary\n",
    "\n",
    "def binary(n):\n",
    "\n",
    "    if n > 1:\n",
    "        binary(n // 2)\n",
    "    print( n % 2,end= \"\")\n",
    "\n",
    "    \n",
    "binary(7)"
   ]
  },
  {
   "cell_type": "code",
   "execution_count": 14,
   "metadata": {},
   "outputs": [
    {
     "name": "stdout",
     "output_type": "stream",
     "text": [
      "5\n",
      "120\n"
     ]
    }
   ],
   "source": [
    "#factorial using recursion\n",
    "\n",
    "def factorial(n):\n",
    "    if (n == 1 or n == 0):\n",
    "        return 1\n",
    "\n",
    "    return n * factorial(n - 1)\n",
    "\n",
    "\n",
    "n = int(input())\n",
    "print(factorial(n)) "
   ]
  },
  {
   "cell_type": "code",
   "execution_count": 17,
   "metadata": {},
   "outputs": [
    {
     "name": "stdout",
     "output_type": "stream",
     "text": [
      "5\n",
      "10\n",
      "25\n"
     ]
    }
   ],
   "source": [
    "\n",
    "def factors(n,i):\n",
    "    if n ==i:\n",
    "        return 1\n",
    "\n",
    "    if n % i == 0:\n",
    "        if i % 5 == 0:\n",
    "            print(i)\n",
    "    factors(n,i+1)\n",
    "\n",
    "\n",
    "i = 1\n",
    "n = 50\n",
    "factors(n,i)"
   ]
  },
  {
   "cell_type": "code",
   "execution_count": 1,
   "metadata": {},
   "outputs": [
    {
     "name": "stdout",
     "output_type": "stream",
     "text": [
      "10\n"
     ]
    }
   ],
   "source": [
    "#product of two number using recursion\n",
    "\n",
    "def product( x , y ):\n",
    "    if x < y:\n",
    "        return product(y, x)\n",
    "\n",
    "    elif y != 0:\n",
    "        return (x + product(x, y - 1))\n",
    "    else:\n",
    "        return 0\n",
    "\n",
    "x = 5\n",
    "y = 2\n",
    "print( product(x, y))"
   ]
  },
  {
   "cell_type": "code",
   "execution_count": null,
   "metadata": {},
   "outputs": [],
   "source": [
    "#power using recursion\n",
    "\n",
    "def power(a,b):\n",
    "\n",
    "    if (b == 0):\n",
    "        return 1\n",
    "\n",
    "    if (a == 0):\n",
    "        return 0\n",
    "\n",
    "    return a * power(a,b-1)\n",
    "\n",
    "\n",
    "a = int(input())\n",
    "b = int(input())\n",
    "\n",
    "print(power(a,b))"
   ]
  },
  {
   "cell_type": "code",
   "execution_count": null,
   "metadata": {},
   "outputs": [],
   "source": [
    "#recursive program to check prime number\n",
    "\n",
    "def primenumber(n,i = 2):\n",
    "    if i ==1: return True\n",
    "    if  n % i == 0: return False\n",
    "    primenumber(n,i+1)\n",
    "\n",
    "n = 2\n",
    "if primenumber(n):\n",
    "    print(\"prime number\")\n",
    "else:\n",
    "print(\"NOT prime number \")"
   ]
  },
  {
   "cell_type": "code",
   "execution_count": 65,
   "metadata": {},
   "outputs": [
    {
     "data": {
      "text/plain": [
       "-25"
      ]
     },
     "execution_count": 65,
     "metadata": {},
     "output_type": "execute_result"
    }
   ],
   "source": [
    "#product of negativenumber using recursion\n",
    "\n",
    "def product(n,m):\n",
    "\n",
    "    if n>0 and m<0:\n",
    "        return product(m,n)\n",
    "    elif n <0 and m <0:\n",
    "        return product((-1*n),(-1*m))\n",
    "    if n > m:\n",
    "        return product(m,n)\n",
    "    elif m != 0:\n",
    "        return n + product(n,m-1)\n",
    "    else:\n",
    "        return 0\n",
    "  \n",
    "   \n",
    "\n",
    "n = -5\n",
    "m =  5\n",
    "product(n,m)"
   ]
  },
  {
   "cell_type": "code",
   "execution_count": null,
   "metadata": {},
   "outputs": [],
   "source": [
    "# if an array is sorted or not using recursion\n",
    "\n",
    "def sorte(arr):\n",
    "\n",
    "    n = len(arr)\n",
    "    if n == 1 or n == 0 :\n",
    "        return \n",
    "\n",
    "    return arr[0] > arr[1] and sorte(arr[1:])\n",
    "\n",
    "arr = [5,4,3,2,1]\n",
    "print(sorte(arr))\n"
   ]
  },
  {
   "cell_type": "code",
   "execution_count": null,
   "metadata": {},
   "outputs": [],
   "source": [
    "# sum of two numbers\n",
    "\n",
    "def sumofnumbers(n):\n",
    "    if n <=1:\n",
    "        print(\"Base case\")\n",
    "        return n\n",
    "    return n + sumofnumbers(n-1)\n",
    "\n",
    "\n",
    "n = int(input())\n",
    "print(sumofnumbers(n))"
   ]
  },
  {
   "cell_type": "code",
   "execution_count": 9,
   "metadata": {},
   "outputs": [
    {
     "name": "stdout",
     "output_type": "stream",
     "text": [
      "13\n"
     ]
    }
   ],
   "source": [
    "#fiboncii \n",
    "\n",
    "def fibonacci(n):\n",
    "    if n <= 1:\n",
    "        return n\n",
    "    return fibonacci(n-1) + fibonacci(n-2)\n",
    "\n",
    "n = 7\n",
    "print(fibonacci(n))\n",
    "\n",
    "\n"
   ]
  }
 ],
 "metadata": {
  "kernelspec": {
   "display_name": "Python 3",
   "language": "python",
   "name": "python3"
  },
  "language_info": {
   "codemirror_mode": {
    "name": "ipython",
    "version": 3
   },
   "file_extension": ".py",
   "mimetype": "text/x-python",
   "name": "python",
   "nbconvert_exporter": "python",
   "pygments_lexer": "ipython3",
   "version": "3.7.0"
  }
 },
 "nbformat": 4,
 "nbformat_minor": 2
}
