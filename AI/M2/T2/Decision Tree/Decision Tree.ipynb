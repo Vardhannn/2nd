{
 "cells": [
  {
   "cell_type": "code",
   "execution_count": 10,
   "id": "0ed87ff7",
   "metadata": {},
   "outputs": [],
   "source": [
    "import numpy as np\n",
    "import pandas as pd\n",
    "from sklearn.model_selection import train_test_split\n",
    "import sklearn.tree as tree\n",
    "from sklearn.tree import DecisionTreeClassifier\n",
    "\n",
    "\n",
    "data =  pd.read_excel(\"company.xlsx\")\n",
    "\n",
    "class Node():\n",
    "    def __init__(self, feature_index=None, threshold=None, left=None, right=None, info_gain=None, value=None):\n",
    "        \n",
    "        self.feature_index = feature_index\n",
    "        self.threshold = threshold\n",
    "        self.left = left\n",
    "        self.right = right\n",
    "        self.info_gain = info_gain\n",
    "        self.value = value\n",
    "\n",
    "\n",
    "class DecisionTreeClassifiers():\n",
    "    def __init__(self, min_samples_split=2, max_depth=2):\n",
    "        \n",
    "        self.root = None\n",
    "        self.min_samples_split = min_samples_split\n",
    "        self.max_depth = max_depth\n",
    "        \n",
    "    def build_tree(self, dataset, curr_depth=0):\n",
    "        \n",
    "        X, Y = dataset[:,:-1], dataset[:,-1]\n",
    "        num_samples, num_features = np.shape(X)\n",
    "        \n",
    "        if num_samples>=self.min_samples_split and curr_depth<=self.max_depth:\n",
    "           \n",
    "            best_split = self.get_best_split(dataset, num_samples, num_features)\n",
    "            if best_split[\"info_gain\"]>0:\n",
    "             \n",
    "                left_subtree = self.build_tree(best_split[\"dataset_left\"], curr_depth+1)\n",
    "              \n",
    "                right_subtree = self.build_tree(best_split[\"dataset_right\"], curr_depth+1)\n",
    "               \n",
    "                return Node(best_split[\"feature_index\"], best_split[\"threshold\"], \n",
    "                            left_subtree, right_subtree, best_split[\"info_gain\"])\n",
    "        \n",
    "        leaf_value = self.calculate_leaf_value(Y)\n",
    "        return Node(value=leaf_value)\n",
    "    \n",
    "    def get_best_split(self, dataset, num_samples, num_features):\n",
    "\n",
    "        best_split = {}\n",
    "        max_info_gain = -float(\"inf\")\n",
    "    \n",
    "        for feature_index in range(num_features):\n",
    "            feature_values = dataset[:, feature_index]\n",
    "            possible_thresholds = np.unique(feature_values)\n",
    "            for threshold in possible_thresholds:\n",
    "                dataset_left, dataset_right = self.split(dataset, feature_index, threshold)\n",
    "                if len(dataset_left)>0 and len(dataset_right)>0:\n",
    "                    y, left_y, right_y = dataset[:, -1], dataset_left[:, -1], dataset_right[:, -1]\n",
    "                    curr_info_gain = self.information_gain(y, left_y, right_y, \"gini\")\n",
    "                    if curr_info_gain>max_info_gain:\n",
    "                        best_split[\"feature_index\"] = feature_index\n",
    "                        best_split[\"threshold\"] = threshold\n",
    "                        best_split[\"dataset_left\"] = dataset_left\n",
    "                        best_split[\"dataset_right\"] = dataset_right\n",
    "                        best_split[\"info_gain\"] = curr_info_gain\n",
    "                        max_info_gain = curr_info_gain\n",
    "    \n",
    "        return best_split\n",
    "    \n",
    "    def split(self, dataset, feature_index, threshold):\n",
    "        \n",
    "        dataset_left = np.array([row for row in dataset if row[feature_index]<=threshold])\n",
    "        dataset_right = np.array([row for row in dataset if row[feature_index]>threshold])\n",
    "        return dataset_left, dataset_right\n",
    "    \n",
    "    def information_gain(self, parent, l_child, r_child, mode=\"entropy\"):\n",
    "        weight_l = len(l_child) / len(parent)\n",
    "        weight_r = len(r_child) / len(parent)\n",
    "        if mode==\"gini\":\n",
    "            gain = self.gini_index(parent) - (weight_l*self.gini_index(l_child) + weight_r*self.gini_index(r_child))\n",
    "        else:\n",
    "            gain = self.entropy(parent) - (weight_l*self.entropy(l_child) + weight_r*self.entropy(r_child))\n",
    "        return gain\n",
    "    \n",
    "    def entropy(self, y):\n",
    "        \n",
    "        class_labels = np.unique(y)\n",
    "        entropy = 0\n",
    "        for cls in class_labels:\n",
    "            p_cls = len(y[y == cls]) / len(y)\n",
    "            entropy += -p_cls * np.log2(p_cls)\n",
    "        return entropy\n",
    "    \n",
    "    def gini_index(self, y):\n",
    "        \n",
    "        class_labels = np.unique(y)\n",
    "        gini = 0\n",
    "        for cls in class_labels:\n",
    "            p_cls = len(y[y == cls]) / len(y)\n",
    "            gini += p_cls**2\n",
    "        return 1 - gini\n",
    "        \n",
    "    def calculate_leaf_value(self, Y):\n",
    "        \n",
    "        Y = list(Y)\n",
    "        return max(Y, key=Y.count)\n",
    "    \n",
    "    def print_tree(self, tree=None, indent=\" \"):\n",
    "        \n",
    "        if not tree:\n",
    "            tree = self.root\n",
    "\n",
    "        if tree.value is not None:\n",
    "            print(tree.value)\n",
    "\n",
    "        else:\n",
    "            print(\"X_\"+str(tree.feature_index), \"<=\", tree.threshold, \"?\", tree.info_gain)\n",
    "            print(\"%sleft:\" % (indent), end=\"\")\n",
    "            self.print_tree(tree.left, indent + indent)\n",
    "            print(\"%sright:\" % (indent), end=\"\")\n",
    "            self.print_tree(tree.right, indent + indent)\n",
    "    \n",
    "    def fit(self, X, Y):\n",
    "        \n",
    "        dataset = np.concatenate((X, Y), axis=1)\n",
    "        self.root = self.build_tree(dataset)\n",
    "    \n",
    "    def predict(self, X):\n",
    "        \n",
    "        preditions = [self.make_prediction(x, self.root) for x in X]\n",
    "        return preditions\n",
    "    \n",
    "    def make_prediction(self, x, tree):\n",
    "        \n",
    "        if tree.value!=None: return tree.value\n",
    "        feature_val = x[tree.feature_index]\n",
    "        if feature_val<=tree.threshold:\n",
    "            return self.make_prediction(x, tree.left)\n",
    "        else:\n",
    "            return self.make_prediction(x, tree.right)\n",
    "\n",
    "\n",
    "\n",
    "\n",
    "X = pd.get_dummies(data.iloc[:,:-1])\n",
    "Y = data.iloc[:, -1]\n",
    "X_train, X_test, Y_train, Y_test = train_test_split(X, Y, test_size=.2, random_state=41)\n",
    "\n",
    "\n",
    "classifier = DecisionTreeClassifier()\n",
    "classifier.fit(X_train,Y_train)\n",
    "\n",
    "\n",
    "fn = list(pd.get_dummies(data.iloc[:,:-1]).columns)\n",
    "\n",
    "cn =  list(map(str,data.iloc[:,-1].unique()))\n",
    "\n",
    "\n",
    "tree.export_graphviz(classifier,out_file = \"representation.dot\", \n",
    "                     feature_names = fn,\n",
    "                     class_names = cn ,\n",
    "                     filled = True,\n",
    "                     rounded = True)\n",
    "\n",
    "# tree.plot_tree(classifier,feature_names = fn,\n",
    "#                      class_names = cn ,\n",
    "#                      filled = True,\n",
    "#                      rounded = True)"
   ]
  },
  {
   "cell_type": "code",
   "execution_count": null,
   "id": "7bc49ed7",
   "metadata": {},
   "outputs": [],
   "source": [
    "X = pd.get_dummies(data.iloc[:,:-1],drop_first=True) "
   ]
  },
  {
   "cell_type": "code",
   "execution_count": null,
   "id": "bdda5b34",
   "metadata": {},
   "outputs": [],
   "source": [
    "fn = data.columns[:-1]"
   ]
  },
  {
   "cell_type": "code",
   "execution_count": 22,
   "id": "c905f027",
   "metadata": {},
   "outputs": [
    {
     "data": {
      "text/plain": [
       "array(['21-25', '26-30', '26-30K', '31-35', '31-35K', '36-40', '36-40K',\n",
       "       '41-45', '41-45K', '46-50', '46-50K', '46-70K', '66-70K'],\n",
       "      dtype=object)"
      ]
     },
     "execution_count": 22,
     "metadata": {},
     "output_type": "execute_result"
    }
   ],
   "source": [
    "data = pd.read_excel(\"ai.xlsx\")\n",
    "fn = data.iloc[:,:-1].values\n",
    "cn = np.unique(fn)\n",
    "cn = ['21-25', '26-30', '26-30K', '31-35', '31-35K', '36-40', '36-40K',\n",
    "       '41-45', '41-45K', '46-50', '46-50K', '46-70K', '66-70K']\n"
   ]
  },
  {
   "cell_type": "code",
   "execution_count": 16,
   "id": "d3e7999a",
   "metadata": {
    "scrolled": true
   },
   "outputs": [
    {
     "data": {
      "text/plain": [
       "['age_21-25',\n",
       " 'age_26-30',\n",
       " 'age_31-35',\n",
       " 'age_36-40',\n",
       " 'age_41-45',\n",
       " 'age_46-50',\n",
       " 'salary_26-30K',\n",
       " 'salary_31-35K',\n",
       " 'salary_36-40K',\n",
       " 'salary_41-45K',\n",
       " 'salary_46-50K',\n",
       " 'salary_46-70K',\n",
       " 'salary_66-70K']"
      ]
     },
     "execution_count": 16,
     "metadata": {},
     "output_type": "execute_result"
    }
   ],
   "source": [
    "data = pd.read_excel(\"ai.xlsx\")\n",
    "ha = list(pd.get_dummies(data.iloc[:,:-1]).columns)\n",
    "ha"
   ]
  },
  {
   "cell_type": "code",
   "execution_count": 5,
   "id": "62ae48f0",
   "metadata": {},
   "outputs": [
    {
     "data": {
      "text/plain": [
       "[3, 4, 5, 6, 10, 20, 30, 40]"
      ]
     },
     "execution_count": 5,
     "metadata": {},
     "output_type": "execute_result"
    }
   ],
   "source": [
    "data = pd.read_excel(\"ai.xlsx\")\n",
    "cn = sorted(data.iloc[:,-1].unique())\n",
    "cn = [3, 4, 5, 6, 10, 20, 30, 40]"
   ]
  },
  {
   "cell_type": "code",
   "execution_count": 29,
   "id": "c1465697",
   "metadata": {},
   "outputs": [
    {
     "data": {
      "text/plain": [
       "11"
      ]
     },
     "execution_count": 29,
     "metadata": {},
     "output_type": "execute_result"
    }
   ],
   "source": [
    "data = pd.read_excel(\"ai.xlsx\")\n",
    "# cn =  [data.columns[-1] for x in range(data[,-1].value_counts())]\n",
    "len(data.axes[0])\n"
   ]
  }
 ],
 "metadata": {
  "kernelspec": {
   "display_name": "Python 3 (ipykernel)",
   "language": "python",
   "name": "python3"
  },
  "language_info": {
   "codemirror_mode": {
    "name": "ipython",
    "version": 3
   },
   "file_extension": ".py",
   "mimetype": "text/x-python",
   "name": "python",
   "nbconvert_exporter": "python",
   "pygments_lexer": "ipython3",
   "version": "3.9.13"
  }
 },
 "nbformat": 4,
 "nbformat_minor": 5
}
