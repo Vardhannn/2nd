{
 "cells": [
  {
   "cell_type": "code",
   "execution_count": 3,
   "id": "0ee81333",
   "metadata": {},
   "outputs": [
    {
     "ename": "ModuleNotFoundError",
     "evalue": "No module named 'player'",
     "output_type": "error",
     "traceback": [
      "\u001b[1;31m---------------------------------------------------------------------------\u001b[0m",
      "\u001b[1;31mModuleNotFoundError\u001b[0m                       Traceback (most recent call last)",
      "Cell \u001b[1;32mIn [3], line 97\u001b[0m\n\u001b[0;32m     95\u001b[0m \u001b[38;5;28;01mimport\u001b[39;00m \u001b[38;5;21;01mmath\u001b[39;00m\n\u001b[0;32m     96\u001b[0m \u001b[38;5;28;01mimport\u001b[39;00m \u001b[38;5;21;01mtime\u001b[39;00m\n\u001b[1;32m---> 97\u001b[0m \u001b[38;5;28;01mfrom\u001b[39;00m \u001b[38;5;21;01mplayer\u001b[39;00m \u001b[38;5;28;01mimport\u001b[39;00m HumanPlayer, RandomComputerPlayer, SmartComputerPlayer\n\u001b[0;32m    100\u001b[0m \u001b[38;5;28;01mclass\u001b[39;00m \u001b[38;5;21;01mTicTacToe\u001b[39;00m():\n\u001b[0;32m    101\u001b[0m     \u001b[38;5;28;01mdef\u001b[39;00m \u001b[38;5;21m__init__\u001b[39m(\u001b[38;5;28mself\u001b[39m):\n",
      "\u001b[1;31mModuleNotFoundError\u001b[0m: No module named 'player'"
     ]
    }
   ],
   "source": [
    "#tic tac toe\n",
    "\n",
    "\n",
    "#the player module\n",
    "\n",
    "import math\n",
    "import random\n",
    "\n",
    "\n",
    "class Player():\n",
    "    def __init__(self, letter):\n",
    "        self.letter = letter\n",
    "\n",
    "    def get_move(self, game):\n",
    "        pass\n",
    "\n",
    "\n",
    "class HumanPlayer(Player):\n",
    "    def __init__(self, letter):\n",
    "        super().__init__(letter)\n",
    "\n",
    "    def get_move(self, game):\n",
    "        valid_square = False\n",
    "        val = None\n",
    "        while not valid_square:\n",
    "            square = input(self.letter + '\\'s turn. Input move (0-9): ')\n",
    "            try:\n",
    "                val = int(square)\n",
    "                if val not in game.available_moves():\n",
    "                    raise ValueError\n",
    "                valid_square = True\n",
    "            except ValueError:\n",
    "                print('Invalid square. Try again.')\n",
    "        return val\n",
    "\n",
    "\n",
    "class RandomComputerPlayer(Player):\n",
    "    def __init__(self, letter):\n",
    "        super().__init__(letter)\n",
    "\n",
    "    def get_move(self, game):\n",
    "        square = random.choice(game.available_moves())\n",
    "        return square\n",
    "\n",
    "\n",
    "class SmartComputerPlayer(Player):\n",
    "    def __init__(self, letter):\n",
    "        super().__init__(letter)\n",
    "\n",
    "    def get_move(self, game):\n",
    "        if len(game.available_moves()) == 9:\n",
    "            square = random.choice(game.available_moves())\n",
    "        else:\n",
    "            square = self.minimax(game, self.letter)['position']\n",
    "        return square\n",
    "\n",
    "    def minimax(self, state, player):\n",
    "        max_player = self.letter  # yourself\n",
    "        other_player = 'O' if player == 'X' else 'X'\n",
    "\n",
    "        # first we want to check if the previous move is a winner\n",
    "        if state.current_winner == other_player:\n",
    "            return {'position': None, 'score': 1 * (state.num_empty_squares() + 1) if other_player == max_player else -1 * (\n",
    "                        state.num_empty_squares() + 1)}\n",
    "        elif not state.empty_squares():\n",
    "            return {'position': None, 'score': 0}\n",
    "\n",
    "        if player == max_player:\n",
    "            best = {'position': None, 'score': -math.inf}  # each score should maximize\n",
    "        else:\n",
    "            best = {'position': None, 'score': math.inf}  # each score should minimize\n",
    "        for possible_move in state.available_moves():\n",
    "            state.make_move(possible_move, player)\n",
    "            sim_score = self.minimax(state, other_player)  # simulate a game after making that move\n",
    "\n",
    "            # undo move\n",
    "            state.board[possible_move] = ' '\n",
    "            state.current_winner = None\n",
    "            sim_score['position'] = possible_move  # this represents the move optimal next move\n",
    "\n",
    "            if player == max_player:  # X is max player\n",
    "                if sim_score['score'] > best['score']:\n",
    "                    best = sim_score\n",
    "            else:\n",
    "                if sim_score['score'] < best['score']:\n",
    "                    best = sim_score\n",
    "        return best\n",
    "    \n",
    "    \n",
    "\n",
    "    \n",
    "    \n"
   ]
  },
  {
   "cell_type": "code",
   "execution_count": 2,
   "id": "41ab1e8a",
   "metadata": {},
   "outputs": [
    {
     "ename": "ModuleNotFoundError",
     "evalue": "No module named 'player'",
     "output_type": "error",
     "traceback": [
      "\u001b[1;31m---------------------------------------------------------------------------\u001b[0m",
      "\u001b[1;31mModuleNotFoundError\u001b[0m                       Traceback (most recent call last)",
      "Cell \u001b[1;32mIn [2], line 5\u001b[0m\n\u001b[0;32m      3\u001b[0m \u001b[38;5;28;01mimport\u001b[39;00m \u001b[38;5;21;01mmath\u001b[39;00m\n\u001b[0;32m      4\u001b[0m \u001b[38;5;28;01mimport\u001b[39;00m \u001b[38;5;21;01mtime\u001b[39;00m\n\u001b[1;32m----> 5\u001b[0m \u001b[38;5;28;01mfrom\u001b[39;00m \u001b[38;5;21;01mplayer\u001b[39;00m \u001b[38;5;28;01mimport\u001b[39;00m HumanPlayer, RandomComputerPlayer, SmartComputerPlayer\n\u001b[0;32m      8\u001b[0m \u001b[38;5;28;01mclass\u001b[39;00m \u001b[38;5;21;01mTicTacToe\u001b[39;00m():\n\u001b[0;32m      9\u001b[0m     \u001b[38;5;28;01mdef\u001b[39;00m \u001b[38;5;21m__init__\u001b[39m(\u001b[38;5;28mself\u001b[39m):\n",
      "\u001b[1;31mModuleNotFoundError\u001b[0m: No module named 'player'"
     ]
    }
   ],
   "source": []
  },
  {
   "cell_type": "code",
   "execution_count": null,
   "id": "93c486fb",
   "metadata": {},
   "outputs": [],
   "source": []
  }
 ],
 "metadata": {
  "kernelspec": {
   "display_name": "Python 3 (ipykernel)",
   "language": "python",
   "name": "python3"
  },
  "language_info": {
   "codemirror_mode": {
    "name": "ipython",
    "version": 3
   },
   "file_extension": ".py",
   "mimetype": "text/x-python",
   "name": "python",
   "nbconvert_exporter": "python",
   "pygments_lexer": "ipython3",
   "version": "3.11.0"
  }
 },
 "nbformat": 4,
 "nbformat_minor": 5
}
