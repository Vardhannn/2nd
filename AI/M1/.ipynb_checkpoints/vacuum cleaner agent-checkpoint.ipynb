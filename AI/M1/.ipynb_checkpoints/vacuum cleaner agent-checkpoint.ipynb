{
 "cells": [
  {
   "cell_type": "code",
   "execution_count": null,
   "id": "2b8984a7",
   "metadata": {},
   "outputs": [],
   "source": [
    "#1.vacuum cleaner agent problem\n",
    "\n",
    "n=int(input(\"Enter the number of rooms:\"))\n",
    "for i in range(n):\n",
    "  a=str(input(\"Enter where the location is:\"))\n",
    "  print(\"The vaccum cleaner is in location-\"+a)\n",
    "  if(a==a):\n",
    "    b=input(\"Enter d if the location is dirt- Enter c if the location cleaned:\")\n",
    "    if(b=='d'):\n",
    "      print(\"The location is dirty\")\n",
    "      print(\"Now the dirt is cleaned\")\n",
    "      print(\"Now move to right\")\n",
    "    \n",
    "    if(b=='c'):\n",
    "        print(\"The vaccum cleaner is in location\"+b)\n",
    "        print(\"The location is cleaned\")\n",
    "        print(\"Move to left\")\n",
    "\n",
    "    else:\n",
    "      print(\"The location is cleaned\")\n",
    "  else:\n",
    "    print(\"Give the correct location\")"
   ]
  }
 ],
 "metadata": {
  "kernelspec": {
   "display_name": "Python 3 (ipykernel)",
   "language": "python",
   "name": "python3"
  },
  "language_info": {
   "codemirror_mode": {
    "name": "ipython",
    "version": 3
   },
   "file_extension": ".py",
   "mimetype": "text/x-python",
   "name": "python",
   "nbconvert_exporter": "python",
   "pygments_lexer": "ipython3",
   "version": "3.11.0"
  }
 },
 "nbformat": 4,
 "nbformat_minor": 5
}
