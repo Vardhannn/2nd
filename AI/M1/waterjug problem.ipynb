{
 "cells": [
  {
   "cell_type": "code",
   "execution_count": null,
   "id": "96fe5d0e",
   "metadata": {},
   "outputs": [],
   "source": [
    "#3.waterjug problem \n",
    "\n",
    "def waterjug(a,b):\n",
    "     print(\"Give intial capacities of jugs\")\n",
    "     if a > 4 and b > 3:\n",
    "         print(\"a should not be greater than 4 or b should not be greater than 2\")\n",
    "     else:\n",
    "         while a != 2:\n",
    "             a = int(input())\n",
    "             b = int(input())\n",
    "             print(\"values are :\",a ,b)\n",
    "             if a > 4 and b > 3 :\n",
    "                 print(\"enter correct input\")\n",
    "             else:\n",
    "                print(\"water quantity in jugs in gallons \" \"(\",a,b,\")\")\n",
    "\n",
    "\n",
    "waterjug(4,3)"
   ]
  }
 ],
 "metadata": {
  "kernelspec": {
   "display_name": "Python 3 (ipykernel)",
   "language": "python",
   "name": "python3"
  },
  "language_info": {
   "codemirror_mode": {
    "name": "ipython",
    "version": 3
   },
   "file_extension": ".py",
   "mimetype": "text/x-python",
   "name": "python",
   "nbconvert_exporter": "python",
   "pygments_lexer": "ipython3",
   "version": "3.11.0"
  }
 },
 "nbformat": 4,
 "nbformat_minor": 5
}
